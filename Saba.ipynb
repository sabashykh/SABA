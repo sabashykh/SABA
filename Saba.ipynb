{
 "cells": [
  {
   "cell_type": "markdown",
   "id": "c98fdf0f-f656-428d-8adf-ab091b633286",
   "metadata": {},
   "source": [
    "## SABA \n",
    "## 2k24/TYCS/5"
   ]
  },
  {
   "cell_type": "code",
   "execution_count": 25,
   "id": "2519d158-ad5b-48b1-8d03-bea7dbb1c234",
   "metadata": {},
   "outputs": [
    {
     "name": "stdout",
     "output_type": "stream",
     "text": [
      "Requirement already satisfied: pandas in c:\\users\\administrator\\documents\\anaconda\\lib\\site-packages (2.1.4)\n",
      "Requirement already satisfied: numpy<2,>=1.23.2 in c:\\users\\administrator\\documents\\anaconda\\lib\\site-packages (from pandas) (1.26.4)\n",
      "Requirement already satisfied: python-dateutil>=2.8.2 in c:\\users\\administrator\\documents\\anaconda\\lib\\site-packages (from pandas) (2.8.2)\n",
      "Requirement already satisfied: pytz>=2020.1 in c:\\users\\administrator\\documents\\anaconda\\lib\\site-packages (from pandas) (2023.3.post1)\n",
      "Requirement already satisfied: tzdata>=2022.1 in c:\\users\\administrator\\documents\\anaconda\\lib\\site-packages (from pandas) (2023.3)\n",
      "Requirement already satisfied: six>=1.5 in c:\\users\\administrator\\documents\\anaconda\\lib\\site-packages (from python-dateutil>=2.8.2->pandas) (1.16.0)\n"
     ]
    }
   ],
   "source": [
    "!pip  install pandas"
   ]
  },
  {
   "cell_type": "code",
   "execution_count": 28,
   "id": "a9ad0d9d-c490-4551-bd4d-7cdfeece4351",
   "metadata": {},
   "outputs": [
    {
     "name": "stdout",
     "output_type": "stream",
     "text": [
      "            Date Product_ID    Product_Name  Category  Quantity\n",
      "0     2021-01-01       P001      Blue Shirt  T-Shirts        50\n",
      "1     2021-01-02       P002     Black Jeans     Jeans        30\n",
      "2     2021-01-03       P003       Red Dress   Dresses        40\n",
      "3     2021-01-04       P004  White Sneakers     Shoes        25\n",
      "4     2021-01-05       P001      Blue Shirt  T-Shirts        55\n",
      "...          ...        ...             ...       ...       ...\n",
      "1082  2023-12-27       P003       Red Dress   Dresses        50\n",
      "1083  2023-12-28       P004  White Sneakers     Shoes        35\n",
      "1084  2023-12-29       P001      Blue Shirt  T-Shirts        55\n",
      "1085  2023-12-30       P002     Black Jeans     Jeans        40\n",
      "1086  2023-12-31       P003       Red Dress   Dresses        50\n",
      "\n",
      "[1087 rows x 5 columns]\n"
     ]
    }
   ],
   "source": [
    "import pandas as pd #read csv,coma,sepreator,value\n",
    "d=pd.read_csv(\"C:\\\\Users\\\\Administrator\\\\Desktop\\\\Colth\\\\data.csv\")\n",
    "df=pd.DataFrame(d)\n",
    "print(d)"
   ]
  },
  {
   "cell_type": "code",
   "execution_count": 29,
   "id": "d9181d37-5a21-4d44-80df-d72d3b44be96",
   "metadata": {},
   "outputs": [
    {
     "data": {
      "text/html": [
       "<div>\n",
       "<style scoped>\n",
       "    .dataframe tbody tr th:only-of-type {\n",
       "        vertical-align: middle;\n",
       "    }\n",
       "\n",
       "    .dataframe tbody tr th {\n",
       "        vertical-align: top;\n",
       "    }\n",
       "\n",
       "    .dataframe thead th {\n",
       "        text-align: right;\n",
       "    }\n",
       "</style>\n",
       "<table border=\"1\" class=\"dataframe\">\n",
       "  <thead>\n",
       "    <tr style=\"text-align: right;\">\n",
       "      <th></th>\n",
       "      <th>Date</th>\n",
       "      <th>Product_ID</th>\n",
       "      <th>Product_Name</th>\n",
       "      <th>Category</th>\n",
       "      <th>Quantity</th>\n",
       "    </tr>\n",
       "  </thead>\n",
       "  <tbody>\n",
       "    <tr>\n",
       "      <th>0</th>\n",
       "      <td>2021-01-01</td>\n",
       "      <td>P001</td>\n",
       "      <td>Blue Shirt</td>\n",
       "      <td>T-Shirts</td>\n",
       "      <td>50</td>\n",
       "    </tr>\n",
       "    <tr>\n",
       "      <th>1</th>\n",
       "      <td>2021-01-02</td>\n",
       "      <td>P002</td>\n",
       "      <td>Black Jeans</td>\n",
       "      <td>Jeans</td>\n",
       "      <td>30</td>\n",
       "    </tr>\n",
       "    <tr>\n",
       "      <th>2</th>\n",
       "      <td>2021-01-03</td>\n",
       "      <td>P003</td>\n",
       "      <td>Red Dress</td>\n",
       "      <td>Dresses</td>\n",
       "      <td>40</td>\n",
       "    </tr>\n",
       "    <tr>\n",
       "      <th>3</th>\n",
       "      <td>2021-01-04</td>\n",
       "      <td>P004</td>\n",
       "      <td>White Sneakers</td>\n",
       "      <td>Shoes</td>\n",
       "      <td>25</td>\n",
       "    </tr>\n",
       "    <tr>\n",
       "      <th>4</th>\n",
       "      <td>2021-01-05</td>\n",
       "      <td>P001</td>\n",
       "      <td>Blue Shirt</td>\n",
       "      <td>T-Shirts</td>\n",
       "      <td>55</td>\n",
       "    </tr>\n",
       "  </tbody>\n",
       "</table>\n",
       "</div>"
      ],
      "text/plain": [
       "         Date Product_ID    Product_Name  Category  Quantity\n",
       "0  2021-01-01       P001      Blue Shirt  T-Shirts        50\n",
       "1  2021-01-02       P002     Black Jeans     Jeans        30\n",
       "2  2021-01-03       P003       Red Dress   Dresses        40\n",
       "3  2021-01-04       P004  White Sneakers     Shoes        25\n",
       "4  2021-01-05       P001      Blue Shirt  T-Shirts        55"
      ]
     },
     "execution_count": 29,
     "metadata": {},
     "output_type": "execute_result"
    }
   ],
   "source": [
    "df.head()"
   ]
  },
  {
   "cell_type": "code",
   "execution_count": 30,
   "id": "39e5558e-10b2-4eff-9c01-cac9eada1264",
   "metadata": {},
   "outputs": [
    {
     "data": {
      "text/html": [
       "<div>\n",
       "<style scoped>\n",
       "    .dataframe tbody tr th:only-of-type {\n",
       "        vertical-align: middle;\n",
       "    }\n",
       "\n",
       "    .dataframe tbody tr th {\n",
       "        vertical-align: top;\n",
       "    }\n",
       "\n",
       "    .dataframe thead th {\n",
       "        text-align: right;\n",
       "    }\n",
       "</style>\n",
       "<table border=\"1\" class=\"dataframe\">\n",
       "  <thead>\n",
       "    <tr style=\"text-align: right;\">\n",
       "      <th></th>\n",
       "      <th>Date</th>\n",
       "      <th>Product_ID</th>\n",
       "      <th>Product_Name</th>\n",
       "      <th>Category</th>\n",
       "      <th>Quantity</th>\n",
       "    </tr>\n",
       "  </thead>\n",
       "  <tbody>\n",
       "    <tr>\n",
       "      <th>1082</th>\n",
       "      <td>2023-12-27</td>\n",
       "      <td>P003</td>\n",
       "      <td>Red Dress</td>\n",
       "      <td>Dresses</td>\n",
       "      <td>50</td>\n",
       "    </tr>\n",
       "    <tr>\n",
       "      <th>1083</th>\n",
       "      <td>2023-12-28</td>\n",
       "      <td>P004</td>\n",
       "      <td>White Sneakers</td>\n",
       "      <td>Shoes</td>\n",
       "      <td>35</td>\n",
       "    </tr>\n",
       "    <tr>\n",
       "      <th>1084</th>\n",
       "      <td>2023-12-29</td>\n",
       "      <td>P001</td>\n",
       "      <td>Blue Shirt</td>\n",
       "      <td>T-Shirts</td>\n",
       "      <td>55</td>\n",
       "    </tr>\n",
       "    <tr>\n",
       "      <th>1085</th>\n",
       "      <td>2023-12-30</td>\n",
       "      <td>P002</td>\n",
       "      <td>Black Jeans</td>\n",
       "      <td>Jeans</td>\n",
       "      <td>40</td>\n",
       "    </tr>\n",
       "    <tr>\n",
       "      <th>1086</th>\n",
       "      <td>2023-12-31</td>\n",
       "      <td>P003</td>\n",
       "      <td>Red Dress</td>\n",
       "      <td>Dresses</td>\n",
       "      <td>50</td>\n",
       "    </tr>\n",
       "  </tbody>\n",
       "</table>\n",
       "</div>"
      ],
      "text/plain": [
       "            Date Product_ID    Product_Name  Category  Quantity\n",
       "1082  2023-12-27       P003       Red Dress   Dresses        50\n",
       "1083  2023-12-28       P004  White Sneakers     Shoes        35\n",
       "1084  2023-12-29       P001      Blue Shirt  T-Shirts        55\n",
       "1085  2023-12-30       P002     Black Jeans     Jeans        40\n",
       "1086  2023-12-31       P003       Red Dress   Dresses        50"
      ]
     },
     "execution_count": 30,
     "metadata": {},
     "output_type": "execute_result"
    }
   ],
   "source": [
    "df.tail() "
   ]
  },
  {
   "cell_type": "code",
   "execution_count": 31,
   "id": "55686524-c1fd-4c15-96b7-479bc1e61dca",
   "metadata": {},
   "outputs": [
    {
     "data": {
      "text/plain": [
       "Index(['Date', 'Product_ID', 'Product_Name', 'Category', 'Quantity'], dtype='object')"
      ]
     },
     "execution_count": 31,
     "metadata": {},
     "output_type": "execute_result"
    }
   ],
   "source": [
    "import pandas as pd\n",
    "d=pd.read_csv(\"C:\\\\Users\\\\Administrator\\\\Desktop\\\\Colth\\\\data.csv\")\n",
    "df.columns"
   ]
  },
  {
   "cell_type": "code",
   "execution_count": 32,
   "id": "d108f1ec-0ea2-4495-b85c-01e845913304",
   "metadata": {},
   "outputs": [
    {
     "data": {
      "text/plain": [
       "RangeIndex(start=0, stop=1087, step=1)"
      ]
     },
     "execution_count": 32,
     "metadata": {},
     "output_type": "execute_result"
    }
   ],
   "source": [
    "import pandas as pd\n",
    "d=pd.read_csv(\"C:\\\\Users\\\\Administrator\\\\Desktop\\\\Colth\\\\data.csv\")\n",
    "df.index"
   ]
  },
  {
   "cell_type": "code",
   "execution_count": 33,
   "id": "82a4c516-3198-4b15-a14f-c5a88aa31afe",
   "metadata": {},
   "outputs": [
    {
     "data": {
      "text/html": [
       "<div>\n",
       "<style scoped>\n",
       "    .dataframe tbody tr th:only-of-type {\n",
       "        vertical-align: middle;\n",
       "    }\n",
       "\n",
       "    .dataframe tbody tr th {\n",
       "        vertical-align: top;\n",
       "    }\n",
       "\n",
       "    .dataframe thead th {\n",
       "        text-align: right;\n",
       "    }\n",
       "</style>\n",
       "<table border=\"1\" class=\"dataframe\">\n",
       "  <thead>\n",
       "    <tr style=\"text-align: right;\">\n",
       "      <th></th>\n",
       "      <th>Product_ID</th>\n",
       "      <th>Product_Name</th>\n",
       "      <th>Category</th>\n",
       "      <th>Quantity</th>\n",
       "    </tr>\n",
       "  </thead>\n",
       "  <tbody>\n",
       "    <tr>\n",
       "      <th>0</th>\n",
       "      <td>P001</td>\n",
       "      <td>Blue Shirt</td>\n",
       "      <td>T-Shirts</td>\n",
       "      <td>50</td>\n",
       "    </tr>\n",
       "    <tr>\n",
       "      <th>1</th>\n",
       "      <td>P002</td>\n",
       "      <td>Black Jeans</td>\n",
       "      <td>Jeans</td>\n",
       "      <td>30</td>\n",
       "    </tr>\n",
       "    <tr>\n",
       "      <th>2</th>\n",
       "      <td>P003</td>\n",
       "      <td>Red Dress</td>\n",
       "      <td>Dresses</td>\n",
       "      <td>40</td>\n",
       "    </tr>\n",
       "    <tr>\n",
       "      <th>3</th>\n",
       "      <td>P004</td>\n",
       "      <td>White Sneakers</td>\n",
       "      <td>Shoes</td>\n",
       "      <td>25</td>\n",
       "    </tr>\n",
       "    <tr>\n",
       "      <th>4</th>\n",
       "      <td>P001</td>\n",
       "      <td>Blue Shirt</td>\n",
       "      <td>T-Shirts</td>\n",
       "      <td>55</td>\n",
       "    </tr>\n",
       "    <tr>\n",
       "      <th>...</th>\n",
       "      <td>...</td>\n",
       "      <td>...</td>\n",
       "      <td>...</td>\n",
       "      <td>...</td>\n",
       "    </tr>\n",
       "    <tr>\n",
       "      <th>1082</th>\n",
       "      <td>P003</td>\n",
       "      <td>Red Dress</td>\n",
       "      <td>Dresses</td>\n",
       "      <td>50</td>\n",
       "    </tr>\n",
       "    <tr>\n",
       "      <th>1083</th>\n",
       "      <td>P004</td>\n",
       "      <td>White Sneakers</td>\n",
       "      <td>Shoes</td>\n",
       "      <td>35</td>\n",
       "    </tr>\n",
       "    <tr>\n",
       "      <th>1084</th>\n",
       "      <td>P001</td>\n",
       "      <td>Blue Shirt</td>\n",
       "      <td>T-Shirts</td>\n",
       "      <td>55</td>\n",
       "    </tr>\n",
       "    <tr>\n",
       "      <th>1085</th>\n",
       "      <td>P002</td>\n",
       "      <td>Black Jeans</td>\n",
       "      <td>Jeans</td>\n",
       "      <td>40</td>\n",
       "    </tr>\n",
       "    <tr>\n",
       "      <th>1086</th>\n",
       "      <td>P003</td>\n",
       "      <td>Red Dress</td>\n",
       "      <td>Dresses</td>\n",
       "      <td>50</td>\n",
       "    </tr>\n",
       "  </tbody>\n",
       "</table>\n",
       "<p>1087 rows × 4 columns</p>\n",
       "</div>"
      ],
      "text/plain": [
       "     Product_ID    Product_Name  Category  Quantity\n",
       "0          P001      Blue Shirt  T-Shirts        50\n",
       "1          P002     Black Jeans     Jeans        30\n",
       "2          P003       Red Dress   Dresses        40\n",
       "3          P004  White Sneakers     Shoes        25\n",
       "4          P001      Blue Shirt  T-Shirts        55\n",
       "...         ...             ...       ...       ...\n",
       "1082       P003       Red Dress   Dresses        50\n",
       "1083       P004  White Sneakers     Shoes        35\n",
       "1084       P001      Blue Shirt  T-Shirts        55\n",
       "1085       P002     Black Jeans     Jeans        40\n",
       "1086       P003       Red Dress   Dresses        50\n",
       "\n",
       "[1087 rows x 4 columns]"
      ]
     },
     "execution_count": 33,
     "metadata": {},
     "output_type": "execute_result"
    }
   ],
   "source": [
    "import pandas as pd\n",
    "d=pd.read_csv(\"C:\\\\Users\\\\Administrator\\\\Desktop\\\\Colth\\\\data.csv\")\n",
    "df[[\"Product_ID\",\t\"Product_Name\",\t\"Category\"\t,\"Quantity\"]]"
   ]
  },
  {
   "cell_type": "code",
   "execution_count": 34,
   "id": "b16c3f4a-489d-47af-be14-ba81b4fed66d",
   "metadata": {},
   "outputs": [
    {
     "data": {
      "text/plain": [
       "1    P002\n",
       "2    P003\n",
       "3    P004\n",
       "4    P001\n",
       "Name: Product_ID, dtype: object"
      ]
     },
     "execution_count": 34,
     "metadata": {},
     "output_type": "execute_result"
    }
   ],
   "source": [
    "df.Product_ID[1:5]"
   ]
  },
  {
   "cell_type": "code",
   "execution_count": 35,
   "id": "a8fcccb0-603c-4220-b1d4-76f1227475b8",
   "metadata": {},
   "outputs": [
    {
     "data": {
      "text/html": [
       "<div>\n",
       "<style scoped>\n",
       "    .dataframe tbody tr th:only-of-type {\n",
       "        vertical-align: middle;\n",
       "    }\n",
       "\n",
       "    .dataframe tbody tr th {\n",
       "        vertical-align: top;\n",
       "    }\n",
       "\n",
       "    .dataframe thead th {\n",
       "        text-align: right;\n",
       "    }\n",
       "</style>\n",
       "<table border=\"1\" class=\"dataframe\">\n",
       "  <thead>\n",
       "    <tr style=\"text-align: right;\">\n",
       "      <th></th>\n",
       "      <th>Quantity</th>\n",
       "    </tr>\n",
       "  </thead>\n",
       "  <tbody>\n",
       "    <tr>\n",
       "      <th>count</th>\n",
       "      <td>1087.000000</td>\n",
       "    </tr>\n",
       "    <tr>\n",
       "      <th>mean</th>\n",
       "      <td>46.844526</td>\n",
       "    </tr>\n",
       "    <tr>\n",
       "      <th>std</th>\n",
       "      <td>10.407300</td>\n",
       "    </tr>\n",
       "    <tr>\n",
       "      <th>min</th>\n",
       "      <td>25.000000</td>\n",
       "    </tr>\n",
       "    <tr>\n",
       "      <th>25%</th>\n",
       "      <td>40.000000</td>\n",
       "    </tr>\n",
       "    <tr>\n",
       "      <th>50%</th>\n",
       "      <td>45.000000</td>\n",
       "    </tr>\n",
       "    <tr>\n",
       "      <th>75%</th>\n",
       "      <td>55.000000</td>\n",
       "    </tr>\n",
       "    <tr>\n",
       "      <th>max</th>\n",
       "      <td>70.000000</td>\n",
       "    </tr>\n",
       "  </tbody>\n",
       "</table>\n",
       "</div>"
      ],
      "text/plain": [
       "          Quantity\n",
       "count  1087.000000\n",
       "mean     46.844526\n",
       "std      10.407300\n",
       "min      25.000000\n",
       "25%      40.000000\n",
       "50%      45.000000\n",
       "75%      55.000000\n",
       "max      70.000000"
      ]
     },
     "execution_count": 35,
     "metadata": {},
     "output_type": "execute_result"
    }
   ],
   "source": [
    "df.describe()"
   ]
  },
  {
   "cell_type": "markdown",
   "id": "da82fed2-956f-412d-9602-c4d04b993bd3",
   "metadata": {},
   "source": [
    "# #ARRAY OPERATION"
   ]
  },
  {
   "cell_type": "code",
   "execution_count": 7,
   "id": "216ff1b9-349c-4d7a-b5c2-cfdf3eb2a92d",
   "metadata": {},
   "outputs": [
    {
     "name": "stdout",
     "output_type": "stream",
     "text": [
      "Requirement already satisfied: numpy in c:\\users\\administrator\\documents\\anaconda\\lib\\site-packages (1.26.4)\n"
     ]
    }
   ],
   "source": [
    "!pip install numpy"
   ]
  },
  {
   "cell_type": "code",
   "execution_count": 8,
   "id": "4b7e89b1-725e-4446-a3b6-d0902f73e7eb",
   "metadata": {},
   "outputs": [
    {
     "name": "stdout",
     "output_type": "stream",
     "text": [
      "Matrix 1:\n",
      " [[1 2 3]\n",
      " [4 5 6]]\n",
      "\n",
      "Matrix 2 :\n",
      " [[ 7  8  9]\n",
      " [10 11 12]\n",
      " [13 14 15]]\n",
      "\n",
      "Zeros Matrix :\n",
      " [[0. 0.]\n",
      " [0. 0.]]\n",
      "\n",
      "Ones Matrix :\n",
      " [[1. 1. 1. 1.]\n",
      " [1. 1. 1. 1.]\n",
      " [1. 1. 1. 1.]]\n",
      "\n",
      "Identity Matrix :\n",
      " [[1. 0. 0.]\n",
      " [0. 1. 0.]\n",
      " [0. 0. 1.]]\n",
      "\n",
      "Diagonal Matrix :\n",
      " [[1 0 0 0]\n",
      " [0 2 0 0]\n",
      " [0 0 3 0]\n",
      " [0 0 0 4]]\n",
      "\n",
      "Random Matrix :\n",
      " [[0.2752245  0.49248893]\n",
      " [0.86364817 0.3978139 ]]\n"
     ]
    }
   ],
   "source": [
    "import numpy as np\n",
    "# Create a 2x3 matrix\n",
    "matrix1 = np.array([[1,2,3],\n",
    "                   [4,5,6]])\n",
    "\n",
    "# Create a 3x3 matrix\n",
    "matrix2 = np.array([[7,8,9],\n",
    "                   [10,11,12],\n",
    "                   [13,14,15]])\n",
    "\n",
    "#Create a matrix of zeros with shape 2x2\n",
    "zeros_matrix = np.zeros((2,2))\n",
    "\n",
    "#Create a matrix of ones with shape 3x4\n",
    "ones_matrix = np.ones((3,4))\n",
    "\n",
    "#Create an identity matrix of size 3x3\n",
    "identity_matrix = np.eye(3)\n",
    "\n",
    "#create a diagonal matrix from a list\n",
    "diagonal_matrix = np.diag([1,2,3,4])\n",
    "\n",
    "#create a random matrix with shape 2x2\n",
    "random_matrix = np.random.rand(2,2)\n",
    "\n",
    "#display the matrices\n",
    "\n",
    "print(\"Matrix 1:\\n\", matrix1)\n",
    "print(\"\\nMatrix 2 :\\n\", matrix2)\n",
    "print(\"\\nZeros Matrix :\\n\", zeros_matrix)\n",
    "print(\"\\nOnes Matrix :\\n\", ones_matrix)\n",
    "print(\"\\nIdentity Matrix :\\n\", identity_matrix)   \n",
    "print(\"\\nDiagonal Matrix :\\n\", diagonal_matrix)  \n",
    "print(\"\\nRandom Matrix :\\n\", random_matrix)      \n",
    "      "
   ]
  },
  {
   "cell_type": "markdown",
   "id": "faa4f502-8b35-4227-9cb2-c2b1b75dfd4a",
   "metadata": {},
   "source": [
    "## Data Visualization\n",
    "## Matplotlib"
   ]
  },
  {
   "cell_type": "code",
   "execution_count": 9,
   "id": "9552295b-a325-4dd1-b02d-b7e48fcaaf5e",
   "metadata": {},
   "outputs": [
    {
     "name": "stderr",
     "output_type": "stream",
     "text": [
      "Matplotlib is building the font cache; this may take a moment.\n"
     ]
    }
   ],
   "source": [
    "import matplotlib.pyplot as plt"
   ]
  },
  {
   "cell_type": "code",
   "execution_count": 10,
   "id": "cd6d2e28-7a43-4566-8647-a1a1239960bd",
   "metadata": {},
   "outputs": [
    {
     "data": {
      "image/png": "[encoded data removed]",
      "text/plain": [
       "<Figure size 640x480 with 1 Axes>"
      ]
     },
     "metadata": {},
     "output_type": "display_data"
    }
   ],
   "source": [
    "\n",
    "plt.plot([2,5,8],[2,5,8])\n",
    "plt.ylabel(\"numbers y\")\n",
    "plt.xlabel(\"numbers x\")\n",
    "plt.title(\"LINE PLOT\")\n",
    "plt.show()"
   ]
  },
  {
   "cell_type": "markdown",
   "id": "4b71c1e2-6907-4d31-94bc-55c893eaf754",
   "metadata": {},
   "source": [
    "## Simple Linear Regression in Python"
   ]
  },
  {
   "cell_type": "code",
   "execution_count": 11,
   "id": "de979ae5-2b5d-4854-8b71-05aa8c3e1781",
   "metadata": {},
   "outputs": [],
   "source": [
    "# Import libraries\n",
    "import pandas as pd\n",
    "import numpy as np\n",
    "import matplotlib.pyplot as plt\n",
    "import seaborn as sns\n",
    "from sklearn.model_selection import train_test_split\n",
    "from pandas.core.common import random_state\n",
    "from sklearn.linear_model import LinearRegression"
   ]
  },
  {
   "cell_type": "code",
   "execution_count": 36,
   "id": "c735f26e-95a0-4b59-82b7-da8327301297",
   "metadata": {},
   "outputs": [
    {
     "data": {
      "text/html": [
       "<div>\n",
       "<style scoped>\n",
       "    .dataframe tbody tr th:only-of-type {\n",
       "        vertical-align: middle;\n",
       "    }\n",
       "\n",
       "    .dataframe tbody tr th {\n",
       "        vertical-align: top;\n",
       "    }\n",
       "\n",
       "    .dataframe thead th {\n",
       "        text-align: right;\n",
       "    }\n",
       "</style>\n",
       "<table border=\"1\" class=\"dataframe\">\n",
       "  <thead>\n",
       "    <tr style=\"text-align: right;\">\n",
       "      <th></th>\n",
       "      <th>Date</th>\n",
       "      <th>Product_ID</th>\n",
       "      <th>Product_Name</th>\n",
       "      <th>Category</th>\n",
       "      <th>Quantity</th>\n",
       "    </tr>\n",
       "  </thead>\n",
       "  <tbody>\n",
       "    <tr>\n",
       "      <th>0</th>\n",
       "      <td>2021-01-01</td>\n",
       "      <td>P001</td>\n",
       "      <td>Blue Shirt</td>\n",
       "      <td>T-Shirts</td>\n",
       "      <td>50</td>\n",
       "    </tr>\n",
       "    <tr>\n",
       "      <th>1</th>\n",
       "      <td>2021-01-02</td>\n",
       "      <td>P002</td>\n",
       "      <td>Black Jeans</td>\n",
       "      <td>Jeans</td>\n",
       "      <td>30</td>\n",
       "    </tr>\n",
       "    <tr>\n",
       "      <th>2</th>\n",
       "      <td>2021-01-03</td>\n",
       "      <td>P003</td>\n",
       "      <td>Red Dress</td>\n",
       "      <td>Dresses</td>\n",
       "      <td>40</td>\n",
       "    </tr>\n",
       "    <tr>\n",
       "      <th>3</th>\n",
       "      <td>2021-01-04</td>\n",
       "      <td>P004</td>\n",
       "      <td>White Sneakers</td>\n",
       "      <td>Shoes</td>\n",
       "      <td>25</td>\n",
       "    </tr>\n",
       "    <tr>\n",
       "      <th>4</th>\n",
       "      <td>2021-01-05</td>\n",
       "      <td>P001</td>\n",
       "      <td>Blue Shirt</td>\n",
       "      <td>T-Shirts</td>\n",
       "      <td>55</td>\n",
       "    </tr>\n",
       "  </tbody>\n",
       "</table>\n",
       "</div>"
      ],
      "text/plain": [
       "         Date Product_ID    Product_Name  Category  Quantity\n",
       "0  2021-01-01       P001      Blue Shirt  T-Shirts        50\n",
       "1  2021-01-02       P002     Black Jeans     Jeans        30\n",
       "2  2021-01-03       P003       Red Dress   Dresses        40\n",
       "3  2021-01-04       P004  White Sneakers     Shoes        25\n",
       "4  2021-01-05       P001      Blue Shirt  T-Shirts        55"
      ]
     },
     "execution_count": 36,
     "metadata": {},
     "output_type": "execute_result"
    }
   ],
   "source": [
    "# Get dataset\n",
    "d=pd.read_csv(\"C:\\\\Users\\\\Administrator\\\\Desktop\\\\Colth\\\\data.csv\")\n",
    "df.head()"
   ]
  },
  {
   "cell_type": "code",
   "execution_count": 37,
   "id": "68e5aa10-7ec2-49d1-b519-afc34d6e72b0",
   "metadata": {},
   "outputs": [
    {
     "data": {
      "text/html": [
       "<div>\n",
       "<style scoped>\n",
       "    .dataframe tbody tr th:only-of-type {\n",
       "        vertical-align: middle;\n",
       "    }\n",
       "\n",
       "    .dataframe tbody tr th {\n",
       "        vertical-align: top;\n",
       "    }\n",
       "\n",
       "    .dataframe thead th {\n",
       "        text-align: right;\n",
       "    }\n",
       "</style>\n",
       "<table border=\"1\" class=\"dataframe\">\n",
       "  <thead>\n",
       "    <tr style=\"text-align: right;\">\n",
       "      <th></th>\n",
       "      <th>Quantity</th>\n",
       "    </tr>\n",
       "  </thead>\n",
       "  <tbody>\n",
       "    <tr>\n",
       "      <th>count</th>\n",
       "      <td>1087.000000</td>\n",
       "    </tr>\n",
       "    <tr>\n",
       "      <th>mean</th>\n",
       "      <td>46.844526</td>\n",
       "    </tr>\n",
       "    <tr>\n",
       "      <th>std</th>\n",
       "      <td>10.407300</td>\n",
       "    </tr>\n",
       "    <tr>\n",
       "      <th>min</th>\n",
       "      <td>25.000000</td>\n",
       "    </tr>\n",
       "    <tr>\n",
       "      <th>25%</th>\n",
       "      <td>40.000000</td>\n",
       "    </tr>\n",
       "    <tr>\n",
       "      <th>50%</th>\n",
       "      <td>45.000000</td>\n",
       "    </tr>\n",
       "    <tr>\n",
       "      <th>75%</th>\n",
       "      <td>55.000000</td>\n",
       "    </tr>\n",
       "    <tr>\n",
       "      <th>max</th>\n",
       "      <td>70.000000</td>\n",
       "    </tr>\n",
       "  </tbody>\n",
       "</table>\n",
       "</div>"
      ],
      "text/plain": [
       "          Quantity\n",
       "count  1087.000000\n",
       "mean     46.844526\n",
       "std      10.407300\n",
       "min      25.000000\n",
       "25%      40.000000\n",
       "50%      45.000000\n",
       "75%      55.000000\n",
       "max      70.000000"
      ]
     },
     "execution_count": 37,
     "metadata": {},
     "output_type": "execute_result"
    }
   ],
   "source": [
    "# Describe data\n",
    "df.describe()"
   ]
  },
  {
   "cell_type": "code",
   "execution_count": 38,
   "id": "ccfc1b6f-bb9e-498b-b34a-d0d3eaed4716",
   "metadata": {},
   "outputs": [
    {
     "name": "stderr",
     "output_type": "stream",
     "text": [
      "C:\\Users\\Administrator\\AppData\\Local\\Temp\\ipykernel_4424\\4254469480.py:3: UserWarning: \n",
      "\n",
      "`distplot` is a deprecated function and will be removed in seaborn v0.14.0.\n",
      "\n",
      "Please adapt your code to use either `displot` (a figure-level function with\n",
      "similar flexibility) or `histplot` (an axes-level function for histograms).\n",
      "\n",
      "For a guide to updating your code to use the new functions, please see\n",
      "https://gist.github.com/mwaskom/de44147ed2974457ad6372750bbe5751\n",
      "\n",
      "  sns.distplot(df['Quantity'])\n",
      "C:\\Users\\Administrator\\Documents\\anaconda\\Lib\\site-packages\\seaborn\\_oldcore.py:1119: FutureWarning: use_inf_as_na option is deprecated and will be removed in a future version. Convert inf values to NaN before operating instead.\n",
      "  with pd.option_context('mode.use_inf_as_na', True):\n"
     ]
    },
    {
     "data": {
      "image/png": "[encoded data removed]",
      "text/plain": [
       "<Figure size 640x480 with 1 Axes>"
      ]
     },
     "metadata": {},
     "output_type": "display_data"
    }
   ],
   "source": [
    "# Data distribution\n",
    "plt.title('Product_ID')\n",
    "sns.distplot(df['Quantity'])\n",
    "plt.show()"
   ]
  },
  {
   "cell_type": "code",
   "execution_count": 41,
   "id": "da6f8cb1-9089-4ce6-ab6a-9692ba14d96c",
   "metadata": {},
   "outputs": [
    {
     "data": {
      "image/png": "[encoded data removed]",
      "text/plain": [
       "<Figure size 640x480 with 1 Axes>"
      ]
     },
     "metadata": {},
     "output_type": "display_data"
    }
   ],
   "source": [
    "# Relationship between Salary and Experience\n",
    "plt.scatter(df['Product_ID'] ,df['Quantity'], color = 'lightcoral')\n",
    "plt.title('Quantity vs Product_ID')\n",
    "plt.xlabel('Product_ID')\n",
    "plt.ylabel('Quantity')\n",
    "plt.box(False)\n",
    "plt.show()"
   ]
  },
  {
   "cell_type": "code",
   "execution_count": 57,
   "id": "22e6724e-cfb0-4d24-a8cf-085bf91910eb",
   "metadata": {
    "scrolled": true
   },
   "outputs": [
    {
     "data": {
      "image/png": "[encoded data removed]",
      "text/plain": [
       "<Figure size 640x480 with 1 Axes>"
      ]
     },
     "metadata": {},
     "output_type": "display_data"
    },
    {
     "data": {
      "image/png": "[encoded data removed]",
      "text/plain": [
       "<Figure size 640x480 with 1 Axes>"
      ]
     },
     "metadata": {},
     "output_type": "display_data"
    }
   ],
   "source": [
    "# Import libraries\n",
    "import pandas as pd\n",
    "import numpy as np\n",
    "import matplotlib.pyplot as plt\n",
    "import seaborn as sns\n",
    "from sklearn.model_selection import train_test_split\n",
    "from pandas.core.common import random_state\n",
    "from sklearn.linear_model import LinearRegression\n",
    "\n",
    "# Example data (using the same dataset structure as before)\n",
    "data = {\n",
    "  'Product_ID':[1,2,3,4,1,2,3,4,1,2,3],\n",
    "'Quantity':[50,30,40,25,55,35,45,30,60,40,50]\n",
    "\n",
    "}\n",
    "\n",
    "df = pd.DataFrame(data)\n",
    "\n",
    "# Define X and y\n",
    "X = df[['Product_ID']]  # Predictor variable\n",
    "y = df['Quantity']  # Target variable \n",
    "\n",
    "# Step 2: Split the dataset into training and testing sets\n",
    "X_train, X_test, y_train, y_test = train_test_split(X, y, test_size=0.2, random_state=0)\n",
    "\n",
    "# Step 3: Create a Linear Regression model and fit it on the training data\n",
    "regressor = LinearRegression()\n",
    "regressor.fit(X_train, y_train)\n",
    "# Prediction result\n",
    "y_pred_test = regressor.predict(X_test)     # predicted value of y_test\n",
    "y_pred_train = regressor.predict(X_train)   # predicted value of y_train\n",
    "\n",
    "# Prediction on training set\n",
    "plt.scatter(X_train, y_train, color = 'lightcoral')\n",
    "plt.plot(X_train, y_pred_train, color = 'firebrick')\n",
    "\n",
    "plt.title('Quantity vs Product_ID (Training Set)')\n",
    "plt.xlabel('Product_ID')\n",
    "plt.ylabel('Quantity')\n",
    "\n",
    "\n",
    "plt.legend(['X_train/Pred(y_test)', 'X_train/y_train'], title = 'Quantity/Product_ID', loc='best', facecolor='white')\n",
    "plt.box(False)\n",
    "plt.show()\n",
    "\n",
    "\n",
    "# Prediction on training set\n",
    "plt.scatter(X_train, y_train, color = 'lightcoral')\n",
    "plt.plot(X_train, y_pred_train, color = 'firebrick')\n",
    "\n",
    "plt.title('Quantity vs Product_ID (Test Set)')\n",
    "plt.xlabel('Product_ID')\n",
    "plt.ylabel('Quantity')\n",
    "\n",
    "\n",
    "plt.legend(['X_train/Pred(y_test)', 'X_train/y_train'], title = 'Quantity/Product_ID', loc='best', facecolor='white')\n",
    "plt.box(False)\n",
    "plt.show()\n",
    "\n",
    "\n"
   ]
  },
  {
   "cell_type": "code",
   "execution_count": 58,
   "id": "e408ff06-9c92-4667-95d1-a843732a20b5",
   "metadata": {},
   "outputs": [
    {
     "name": "stdout",
     "output_type": "stream",
     "text": [
      "Coefficient: [-6.75]\n",
      "Intercept: 57.5\n"
     ]
    }
   ],
   "source": [
    "# Regressor coefficients and intercept\n",
    "print(f'Coefficient: {regressor.coef_}')\n",
    "print(f'Intercept: {regressor.intercept_}')"
   ]
  },
  {
   "cell_type": "code",
   "execution_count": null,
   "id": "770c3fff-71ec-4d9a-8b5d-2d6c740c7134",
   "metadata": {},
   "outputs": [],
   "source": []
  }
 ],
 "metadata": {
  "kernelspec": {
   "display_name": "Python 3 (ipykernel)",
   "language": "python",
   "name": "python3"
  },
  "language_info": {
   "codemirror_mode": {
    "name": "ipython",
    "version": 3
   },
   "file_extension": ".py",
   "mimetype": "text/x-python",
   "name": "python",
   "nbconvert_exporter": "python",
   "pygments_lexer": "ipython3",
   "version": "3.11.7"
  }
 },
 "nbformat": 4,
 "nbformat_minor": 5
}
